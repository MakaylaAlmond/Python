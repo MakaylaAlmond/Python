{
 "cells": [
  {
   "cell_type": "markdown",
   "id": "91974d52",
   "metadata": {},
   "source": [
    "# Importing Libraries"
   ]
  },
  {
   "cell_type": "code",
   "execution_count": 1,
   "id": "a4b1c15a",
   "metadata": {},
   "outputs": [],
   "source": [
    "#importing\n",
    "import pandas as pd\n",
    "import numpy  as np\n",
    "import  os\n",
    "import matplotlib.pyplot as  plt\n",
    "import seaborn as sns\n",
    "import  scipy"
   ]
  },
  {
   "cell_type": "code",
   "execution_count": 2,
   "id": "3baaf8eb",
   "metadata": {},
   "outputs": [],
   "source": [
    "instacart_merged = pd.read_pickle(r'C:\\Users\\makay\\Documents\\Pythons files\\Master folder\\02 Data\\Prepared data\\4.9 instacart merged.pkl')"
   ]
  },
  {
   "cell_type": "code",
   "execution_count": 3,
   "id": "fbe1e34f",
   "metadata": {},
   "outputs": [
    {
     "data": {
      "text/html": [
       "<div>\n",
       "<style scoped>\n",
       "    .dataframe tbody tr th:only-of-type {\n",
       "        vertical-align: middle;\n",
       "    }\n",
       "\n",
       "    .dataframe tbody tr th {\n",
       "        vertical-align: top;\n",
       "    }\n",
       "\n",
       "    .dataframe thead th {\n",
       "        text-align: right;\n",
       "    }\n",
       "</style>\n",
       "<table border=\"1\" class=\"dataframe\">\n",
       "  <thead>\n",
       "    <tr style=\"text-align: right;\">\n",
       "      <th></th>\n",
       "      <th>order_id</th>\n",
       "      <th>user_id</th>\n",
       "      <th>order_number</th>\n",
       "      <th>order_dow</th>\n",
       "      <th>order_hour_of_day</th>\n",
       "      <th>days_since_prior_order</th>\n",
       "      <th>first_time_ordering</th>\n",
       "      <th>product_id</th>\n",
       "      <th>add_to_cart_order</th>\n",
       "      <th>reordered</th>\n",
       "      <th>...</th>\n",
       "      <th>First_name</th>\n",
       "      <th>Last_name</th>\n",
       "      <th>Gender</th>\n",
       "      <th>State</th>\n",
       "      <th>Age</th>\n",
       "      <th>date_joined</th>\n",
       "      <th>number_of_dependents</th>\n",
       "      <th>Family_status</th>\n",
       "      <th>income</th>\n",
       "      <th>_merge</th>\n",
       "    </tr>\n",
       "  </thead>\n",
       "  <tbody>\n",
       "    <tr>\n",
       "      <th>0</th>\n",
       "      <td>2539329</td>\n",
       "      <td>1</td>\n",
       "      <td>1</td>\n",
       "      <td>2</td>\n",
       "      <td>8</td>\n",
       "      <td>NaN</td>\n",
       "      <td>True</td>\n",
       "      <td>196.0</td>\n",
       "      <td>1.0</td>\n",
       "      <td>0.0</td>\n",
       "      <td>...</td>\n",
       "      <td>Linda</td>\n",
       "      <td>Nguyen</td>\n",
       "      <td>Female</td>\n",
       "      <td>Alabama</td>\n",
       "      <td>31</td>\n",
       "      <td>2/17/2019</td>\n",
       "      <td>3</td>\n",
       "      <td>married</td>\n",
       "      <td>40423</td>\n",
       "      <td>both</td>\n",
       "    </tr>\n",
       "    <tr>\n",
       "      <th>1</th>\n",
       "      <td>2398795</td>\n",
       "      <td>1</td>\n",
       "      <td>2</td>\n",
       "      <td>3</td>\n",
       "      <td>7</td>\n",
       "      <td>15.0</td>\n",
       "      <td>False</td>\n",
       "      <td>196.0</td>\n",
       "      <td>1.0</td>\n",
       "      <td>1.0</td>\n",
       "      <td>...</td>\n",
       "      <td>Linda</td>\n",
       "      <td>Nguyen</td>\n",
       "      <td>Female</td>\n",
       "      <td>Alabama</td>\n",
       "      <td>31</td>\n",
       "      <td>2/17/2019</td>\n",
       "      <td>3</td>\n",
       "      <td>married</td>\n",
       "      <td>40423</td>\n",
       "      <td>both</td>\n",
       "    </tr>\n",
       "    <tr>\n",
       "      <th>2</th>\n",
       "      <td>473747</td>\n",
       "      <td>1</td>\n",
       "      <td>3</td>\n",
       "      <td>3</td>\n",
       "      <td>12</td>\n",
       "      <td>21.0</td>\n",
       "      <td>False</td>\n",
       "      <td>196.0</td>\n",
       "      <td>1.0</td>\n",
       "      <td>1.0</td>\n",
       "      <td>...</td>\n",
       "      <td>Linda</td>\n",
       "      <td>Nguyen</td>\n",
       "      <td>Female</td>\n",
       "      <td>Alabama</td>\n",
       "      <td>31</td>\n",
       "      <td>2/17/2019</td>\n",
       "      <td>3</td>\n",
       "      <td>married</td>\n",
       "      <td>40423</td>\n",
       "      <td>both</td>\n",
       "    </tr>\n",
       "    <tr>\n",
       "      <th>3</th>\n",
       "      <td>2254736</td>\n",
       "      <td>1</td>\n",
       "      <td>4</td>\n",
       "      <td>4</td>\n",
       "      <td>7</td>\n",
       "      <td>29.0</td>\n",
       "      <td>False</td>\n",
       "      <td>196.0</td>\n",
       "      <td>1.0</td>\n",
       "      <td>1.0</td>\n",
       "      <td>...</td>\n",
       "      <td>Linda</td>\n",
       "      <td>Nguyen</td>\n",
       "      <td>Female</td>\n",
       "      <td>Alabama</td>\n",
       "      <td>31</td>\n",
       "      <td>2/17/2019</td>\n",
       "      <td>3</td>\n",
       "      <td>married</td>\n",
       "      <td>40423</td>\n",
       "      <td>both</td>\n",
       "    </tr>\n",
       "    <tr>\n",
       "      <th>4</th>\n",
       "      <td>431534</td>\n",
       "      <td>1</td>\n",
       "      <td>5</td>\n",
       "      <td>4</td>\n",
       "      <td>15</td>\n",
       "      <td>28.0</td>\n",
       "      <td>False</td>\n",
       "      <td>196.0</td>\n",
       "      <td>1.0</td>\n",
       "      <td>1.0</td>\n",
       "      <td>...</td>\n",
       "      <td>Linda</td>\n",
       "      <td>Nguyen</td>\n",
       "      <td>Female</td>\n",
       "      <td>Alabama</td>\n",
       "      <td>31</td>\n",
       "      <td>2/17/2019</td>\n",
       "      <td>3</td>\n",
       "      <td>married</td>\n",
       "      <td>40423</td>\n",
       "      <td>both</td>\n",
       "    </tr>\n",
       "  </tbody>\n",
       "</table>\n",
       "<p>5 rows × 34 columns</p>\n",
       "</div>"
      ],
      "text/plain": [
       "   order_id  user_id  order_number  order_dow  order_hour_of_day  \\\n",
       "0   2539329        1             1          2                  8   \n",
       "1   2398795        1             2          3                  7   \n",
       "2    473747        1             3          3                 12   \n",
       "3   2254736        1             4          4                  7   \n",
       "4    431534        1             5          4                 15   \n",
       "\n",
       "   days_since_prior_order  first_time_ordering  product_id  add_to_cart_order  \\\n",
       "0                     NaN                 True       196.0                1.0   \n",
       "1                    15.0                False       196.0                1.0   \n",
       "2                    21.0                False       196.0                1.0   \n",
       "3                    29.0                False       196.0                1.0   \n",
       "4                    28.0                False       196.0                1.0   \n",
       "\n",
       "   reordered  ... First_name  Last_name  Gender    State Age date_joined  \\\n",
       "0        0.0  ...      Linda     Nguyen  Female  Alabama  31   2/17/2019   \n",
       "1        1.0  ...      Linda     Nguyen  Female  Alabama  31   2/17/2019   \n",
       "2        1.0  ...      Linda     Nguyen  Female  Alabama  31   2/17/2019   \n",
       "3        1.0  ...      Linda     Nguyen  Female  Alabama  31   2/17/2019   \n",
       "4        1.0  ...      Linda     Nguyen  Female  Alabama  31   2/17/2019   \n",
       "\n",
       "  number_of_dependents Family_status  income _merge  \n",
       "0                    3       married   40423   both  \n",
       "1                    3       married   40423   both  \n",
       "2                    3       married   40423   both  \n",
       "3                    3       married   40423   both  \n",
       "4                    3       married   40423   both  \n",
       "\n",
       "[5 rows x 34 columns]"
      ]
     },
     "execution_count": 3,
     "metadata": {},
     "output_type": "execute_result"
    }
   ],
   "source": [
    "instacart_merged.head()"
   ]
  },
  {
   "cell_type": "markdown",
   "id": "90db838d",
   "metadata": {},
   "source": [
    "# Is PII an issue for this dataset?"
   ]
  },
  {
   "cell_type": "markdown",
   "id": "71dc8789",
   "metadata": {},
   "source": [
    "No, because the data for customers was fabricated for the use of this assignment therefore it could not br traced back to an actual individual."
   ]
  },
  {
   "cell_type": "markdown",
   "id": "db2da06f",
   "metadata": {},
   "source": [
    "# Create region column based on state column"
   ]
  },
  {
   "cell_type": "code",
   "execution_count": 4,
   "id": "f0dbda00",
   "metadata": {},
   "outputs": [],
   "source": [
    "#Making a region list so that we can make a region column\n",
    "region =[]"
   ]
  },
  {
   "cell_type": "code",
   "execution_count": 5,
   "id": "f708e50e",
   "metadata": {},
   "outputs": [],
   "source": [
    "for value in instacart_merged['State']:\n",
    "    if value == ('Maine' or 'New Hampshire' or 'Vermont' or'Massachusetts' or 'Rhode Island' or 'Connecticut' or 'New York' or 'Pennsylvania' or 'New Jersey'):\n",
    "        region.append('Northeast')\n",
    "    elif value == ('Wisconsin' or 'Michigan' or 'Illinois' or 'Indiana' or 'Ohio' or 'North Dakota' or 'South Dakota' or 'Nebraska' or 'Kansas' or 'Minnesota' or 'Iowa' or 'Missouri' ):\n",
    "        region.append('Midwest')\n",
    "    elif value == ('Delaware' or 'Maryland' or 'District of Columbia' or 'Virginia' or 'West Virginia' or 'North Carolina' or 'South Carolina' or 'Georgia' or 'Florida' or 'Kentucky' or 'Tennessee' or 'Mississippi' or 'Alabama' or 'Oklahoma' or 'Texas' or 'Arkansas' or 'Louisiana'):\n",
    "        region.append('South')\n",
    "    else:\n",
    "        region.append('West')"
   ]
  },
  {
   "cell_type": "code",
   "execution_count": 6,
   "id": "40fd2b1a",
   "metadata": {},
   "outputs": [],
   "source": [
    "#Creating Region column and checking accuracy"
   ]
  },
  {
   "cell_type": "code",
   "execution_count": 7,
   "id": "d3d2be54",
   "metadata": {},
   "outputs": [],
   "source": [
    "instacart_merged['Region'] = region"
   ]
  },
  {
   "cell_type": "code",
   "execution_count": 8,
   "id": "974d0d89",
   "metadata": {},
   "outputs": [
    {
     "data": {
      "text/plain": [
       "West         28860840\n",
       "Northeast      610863\n",
       "South          599369\n",
       "Midwest        586275\n",
       "Name: Region, dtype: int64"
      ]
     },
     "execution_count": 8,
     "metadata": {},
     "output_type": "execute_result"
    }
   ],
   "source": [
    "instacart_merged['Region'].value_counts(dropna=False)"
   ]
  },
  {
   "cell_type": "code",
   "execution_count": 9,
   "id": "05970567",
   "metadata": {},
   "outputs": [
    {
     "data": {
      "text/plain": [
       "(30657347, 35)"
      ]
     },
     "execution_count": 9,
     "metadata": {},
     "output_type": "execute_result"
    }
   ],
   "source": [
    "instacart_merged.shape"
   ]
  },
  {
   "cell_type": "code",
   "execution_count": 10,
   "id": "4611635d",
   "metadata": {},
   "outputs": [],
   "source": [
    "#Checking spending habits between Region and Spending_flag\n",
    "Spending_habits = pd.crosstab(instacart_merged['Region'], instacart_merged['Spending_flag'], dropna = False)"
   ]
  },
  {
   "cell_type": "code",
   "execution_count": 11,
   "id": "bd04a195",
   "metadata": {},
   "outputs": [
    {
     "data": {
      "text/html": [
       "<div>\n",
       "<style scoped>\n",
       "    .dataframe tbody tr th:only-of-type {\n",
       "        vertical-align: middle;\n",
       "    }\n",
       "\n",
       "    .dataframe tbody tr th {\n",
       "        vertical-align: top;\n",
       "    }\n",
       "\n",
       "    .dataframe thead th {\n",
       "        text-align: right;\n",
       "    }\n",
       "</style>\n",
       "<table border=\"1\" class=\"dataframe\">\n",
       "  <thead>\n",
       "    <tr style=\"text-align: right;\">\n",
       "      <th>Spending_flag</th>\n",
       "      <th>High  Spender</th>\n",
       "      <th>Low Spender</th>\n",
       "    </tr>\n",
       "    <tr>\n",
       "      <th>Region</th>\n",
       "      <th></th>\n",
       "      <th></th>\n",
       "    </tr>\n",
       "  </thead>\n",
       "  <tbody>\n",
       "    <tr>\n",
       "      <th>Midwest</th>\n",
       "      <td>585539</td>\n",
       "      <td>736</td>\n",
       "    </tr>\n",
       "    <tr>\n",
       "      <th>Northeast</th>\n",
       "      <td>610081</td>\n",
       "      <td>782</td>\n",
       "    </tr>\n",
       "    <tr>\n",
       "      <th>South</th>\n",
       "      <td>598732</td>\n",
       "      <td>637</td>\n",
       "    </tr>\n",
       "    <tr>\n",
       "      <th>West</th>\n",
       "      <td>28833011</td>\n",
       "      <td>27829</td>\n",
       "    </tr>\n",
       "  </tbody>\n",
       "</table>\n",
       "</div>"
      ],
      "text/plain": [
       "Spending_flag  High  Spender  Low Spender\n",
       "Region                                   \n",
       "Midwest               585539          736\n",
       "Northeast             610081          782\n",
       "South                 598732          637\n",
       "West                28833011        27829"
      ]
     },
     "execution_count": 11,
     "metadata": {},
     "output_type": "execute_result"
    }
   ],
   "source": [
    "Spending_habits.head()"
   ]
  },
  {
   "cell_type": "markdown",
   "id": "aef861a7",
   "metadata": {},
   "source": [
    "You can see the West has the largest High Spenders while Midwest has the lowest High Spenders."
   ]
  },
  {
   "cell_type": "markdown",
   "id": "0782cd19",
   "metadata": {},
   "source": [
    "# Create exclusion flag for low-activity  customers"
   ]
  },
  {
   "cell_type": "code",
   "execution_count": 12,
   "id": "73c891c8",
   "metadata": {},
   "outputs": [],
   "source": [
    "#exclusion flag for low-activity customers\n",
    "instacart_merged.loc[instacart_merged['max_order']< 5, 'exclusion_flag'] = 'Low_activity_customer'"
   ]
  },
  {
   "cell_type": "code",
   "execution_count": 13,
   "id": "6ffd99f4",
   "metadata": {},
   "outputs": [],
   "source": [
    "instacart_merged.loc[instacart_merged['max_order']>=5, 'exclusion_flag'] = 'Regular_activity_customer'"
   ]
  },
  {
   "cell_type": "code",
   "execution_count": 14,
   "id": "31c7e74e",
   "metadata": {},
   "outputs": [
    {
     "data": {
      "text/plain": [
       "Regular_activity_customer    29297366\n",
       "Low_activity_customer         1359981\n",
       "Name: exclusion_flag, dtype: int64"
      ]
     },
     "execution_count": 14,
     "metadata": {},
     "output_type": "execute_result"
    }
   ],
   "source": [
    "#Checking results \n",
    "instacart_merged['exclusion_flag']. value_counts(dropna=False)"
   ]
  },
  {
   "cell_type": "code",
   "execution_count": 15,
   "id": "6c9627e2",
   "metadata": {},
   "outputs": [
    {
     "data": {
      "text/plain": [
       "(30657347, 36)"
      ]
     },
     "execution_count": 15,
     "metadata": {},
     "output_type": "execute_result"
    }
   ],
   "source": [
    "instacart_merged.shape"
   ]
  },
  {
   "cell_type": "markdown",
   "id": "888a63f1",
   "metadata": {},
   "source": [
    "Results match shape of total data showing us it is correct"
   ]
  },
  {
   "cell_type": "code",
   "execution_count": 16,
   "id": "f5645257",
   "metadata": {},
   "outputs": [],
   "source": [
    "#Creating a subset for low activity from main data set so that it can be exported \n",
    "instacart_low_activity = instacart_merged [instacart_merged['exclusion_flag'] == 'Low_activity_customer']"
   ]
  },
  {
   "cell_type": "code",
   "execution_count": 17,
   "id": "e609efc0",
   "metadata": {},
   "outputs": [
    {
     "data": {
      "text/plain": [
       "(1359981, 36)"
      ]
     },
     "execution_count": 17,
     "metadata": {},
     "output_type": "execute_result"
    }
   ],
   "source": [
    "instacart_low_activity.shape"
   ]
  },
  {
   "cell_type": "markdown",
   "id": "d918f06a",
   "metadata": {},
   "source": [
    "Results of shape match the above checked results which shows us that the subsetting was done correctly"
   ]
  },
  {
   "cell_type": "code",
   "execution_count": 18,
   "id": "d6fc8448",
   "metadata": {},
   "outputs": [],
   "source": [
    "#Exporting the new subset\n",
    "instacart_low_activity.to_pickle(r'C:\\Users\\makay\\Documents\\Pythons files\\Master folder\\02 Data\\Prepared data\\low_activity.pkl')"
   ]
  },
  {
   "cell_type": "code",
   "execution_count": 19,
   "id": "b01c83a4",
   "metadata": {},
   "outputs": [],
   "source": [
    "#Creating a subset for regular activity from main data set so that it can be exported\n",
    "instacart_regular_activity = instacart_merged [instacart_merged['exclusion_flag'] == 'Regular_activity_customer']"
   ]
  },
  {
   "cell_type": "code",
   "execution_count": 20,
   "id": "464f8a8a",
   "metadata": {},
   "outputs": [
    {
     "data": {
      "text/plain": [
       "(29297366, 36)"
      ]
     },
     "execution_count": 20,
     "metadata": {},
     "output_type": "execute_result"
    }
   ],
   "source": [
    "instacart_regular_activity.shape"
   ]
  },
  {
   "cell_type": "markdown",
   "id": "e8e527ac",
   "metadata": {},
   "source": [
    "Results of shape match above checked results which shows us that the subsetting was done correctly"
   ]
  },
  {
   "cell_type": "code",
   "execution_count": 21,
   "id": "bc11c073",
   "metadata": {},
   "outputs": [],
   "source": [
    "#Exporting regular activity subset\n",
    "instacart_regular_activity.to_pickle(r'C:\\Users\\makay\\Documents\\Pythons files\\Master folder\\02 Data\\Prepared data\\regular_activity.pkl')"
   ]
  },
  {
   "cell_type": "markdown",
   "id": "4b7f528d",
   "metadata": {},
   "source": [
    "# Profiling Customers by different variables"
   ]
  },
  {
   "cell_type": "markdown",
   "id": "4932b17a",
   "metadata": {},
   "source": [
    "Profiling first with age variable"
   ]
  },
  {
   "cell_type": "code",
   "execution_count": 22,
   "id": "3bd1dc01",
   "metadata": {},
   "outputs": [
    {
     "data": {
      "text/plain": [
       "count    2.929737e+07\n",
       "mean     4.947578e+01\n",
       "std      1.847847e+01\n",
       "min      1.800000e+01\n",
       "25%      3.400000e+01\n",
       "50%      4.900000e+01\n",
       "75%      6.500000e+01\n",
       "max      8.100000e+01\n",
       "Name: Age, dtype: float64"
      ]
     },
     "execution_count": 22,
     "metadata": {},
     "output_type": "execute_result"
    }
   ],
   "source": [
    "instacart_regular_activity ['Age'].describe()"
   ]
  },
  {
   "cell_type": "markdown",
   "id": "d81c534c",
   "metadata": {},
   "source": [
    "Based on results age groups would be \n",
    "18-38: young adult,\n",
    "39-59: middle age adult,\n",
    "60 and older: senior adult"
   ]
  },
  {
   "cell_type": "code",
   "execution_count": 23,
   "id": "9937a738",
   "metadata": {},
   "outputs": [
    {
     "name": "stderr",
     "output_type": "stream",
     "text": [
      "C:\\Users\\makay\\AppData\\Local\\Temp\\ipykernel_19404\\1931046354.py:2: SettingWithCopyWarning: \n",
      "A value is trying to be set on a copy of a slice from a DataFrame.\n",
      "Try using .loc[row_indexer,col_indexer] = value instead\n",
      "\n",
      "See the caveats in the documentation: https://pandas.pydata.org/pandas-docs/stable/user_guide/indexing.html#returning-a-view-versus-a-copy\n",
      "  instacart_regular_activity.loc[(instacart_regular_activity['Age']>=18)&(instacart_regular_activity['Age']<=38), 'age_flag'] = 'Young_adult'\n"
     ]
    }
   ],
   "source": [
    "#Creating flag for age varibale\n",
    "instacart_regular_activity.loc[(instacart_regular_activity['Age']>=18)&(instacart_regular_activity['Age']<=38), 'age_flag'] = 'Young_adult'\n",
    "instacart_regular_activity.loc[(instacart_regular_activity['Age']>=39)&(instacart_regular_activity['Age']<=59), 'age_flag'] = 'Middle_age_adult'\n",
    "instacart_regular_activity.loc[instacart_regular_activity['Age']>60, 'age_flag'] = 'Senior_adult'"
   ]
  },
  {
   "cell_type": "code",
   "execution_count": 24,
   "id": "b06d91a1",
   "metadata": {},
   "outputs": [
    {
     "data": {
      "text/plain": [
       "Middle_age_adult    9670532\n",
       "Young_adult         9619075\n",
       "Senior_adult        9569713\n",
       "NaN                  438046\n",
       "Name: age_flag, dtype: int64"
      ]
     },
     "execution_count": 24,
     "metadata": {},
     "output_type": "execute_result"
    }
   ],
   "source": [
    "#Checking results\n",
    "instacart_regular_activity['age_flag'].value_counts(dropna=False)"
   ]
  },
  {
   "cell_type": "markdown",
   "id": "4c5c10d5",
   "metadata": {},
   "source": [
    "Profiling income variable"
   ]
  },
  {
   "cell_type": "code",
   "execution_count": 25,
   "id": "235ce88e",
   "metadata": {},
   "outputs": [
    {
     "data": {
      "text/plain": [
       "count    2.929737e+07\n",
       "mean     9.969391e+04\n",
       "std      4.314577e+04\n",
       "min      2.590300e+04\n",
       "25%      6.736300e+04\n",
       "50%      9.676000e+04\n",
       "75%      1.281380e+05\n",
       "max      5.939010e+05\n",
       "Name: income, dtype: float64"
      ]
     },
     "execution_count": 25,
     "metadata": {},
     "output_type": "execute_result"
    }
   ],
   "source": [
    "instacart_regular_activity ['income'].describe()"
   ]
  },
  {
   "cell_type": "markdown",
   "id": "8a72a4bc",
   "metadata": {},
   "source": [
    "Based on results categories would be 0-100,000: low income, 100,001-200,000: low middle income, 200,001-300,000: ,middle income, 300,0001-400,000: high middle income, 400,001 or greater: high income"
   ]
  },
  {
   "cell_type": "code",
   "execution_count": 26,
   "id": "851d5b20",
   "metadata": {},
   "outputs": [
    {
     "name": "stderr",
     "output_type": "stream",
     "text": [
      "C:\\Users\\makay\\AppData\\Local\\Temp\\ipykernel_19404\\678084009.py:2: SettingWithCopyWarning: \n",
      "A value is trying to be set on a copy of a slice from a DataFrame.\n",
      "Try using .loc[row_indexer,col_indexer] = value instead\n",
      "\n",
      "See the caveats in the documentation: https://pandas.pydata.org/pandas-docs/stable/user_guide/indexing.html#returning-a-view-versus-a-copy\n",
      "  instacart_regular_activity.loc[(instacart_regular_activity['income']>=0)&(instacart_regular_activity['income']<=100000), 'income_flag'] = 'low_income'\n"
     ]
    }
   ],
   "source": [
    "#Creating income flag\n",
    "instacart_regular_activity.loc[(instacart_regular_activity['income']>=0)&(instacart_regular_activity['income']<=100000), 'income_flag'] = 'low_income'\n",
    "instacart_regular_activity.loc[(instacart_regular_activity['income']>=100001)&(instacart_regular_activity['income']<=200000), 'income_flag'] = 'low_middle_income'\n",
    "instacart_regular_activity.loc[(instacart_regular_activity['income']>=200001)&(instacart_regular_activity['income']<=300000), 'income_flag'] = 'middle_income'\n",
    "instacart_regular_activity.loc[(instacart_regular_activity['income']>=300001)&(instacart_regular_activity['income']<=400000), 'income_flag'] = 'high_middle_income'\n",
    "instacart_regular_activity.loc[instacart_regular_activity['income']>400001, 'income_flag'] = 'high_income'\n"
   ]
  },
  {
   "cell_type": "code",
   "execution_count": 27,
   "id": "feb867a3",
   "metadata": {},
   "outputs": [
    {
     "data": {
      "text/plain": [
       "low_income            15850368\n",
       "low_middle_income     13206931\n",
       "middle_income           145377\n",
       "high_middle_income       49248\n",
       "high_income              45442\n",
       "Name: income_flag, dtype: int64"
      ]
     },
     "execution_count": 27,
     "metadata": {},
     "output_type": "execute_result"
    }
   ],
   "source": [
    "#Checking results\n",
    "instacart_regular_activity['income_flag'].value_counts(dropna=False)"
   ]
  },
  {
   "cell_type": "markdown",
   "id": "ed5287db",
   "metadata": {},
   "source": [
    "Profiling number of dependents variable"
   ]
  },
  {
   "cell_type": "code",
   "execution_count": 28,
   "id": "fe67f4b1",
   "metadata": {},
   "outputs": [
    {
     "data": {
      "text/html": [
       "<div>\n",
       "<style scoped>\n",
       "    .dataframe tbody tr th:only-of-type {\n",
       "        vertical-align: middle;\n",
       "    }\n",
       "\n",
       "    .dataframe tbody tr th {\n",
       "        vertical-align: top;\n",
       "    }\n",
       "\n",
       "    .dataframe thead th {\n",
       "        text-align: right;\n",
       "    }\n",
       "</style>\n",
       "<table border=\"1\" class=\"dataframe\">\n",
       "  <thead>\n",
       "    <tr style=\"text-align: right;\">\n",
       "      <th></th>\n",
       "      <th>order_id</th>\n",
       "      <th>user_id</th>\n",
       "      <th>order_number</th>\n",
       "      <th>order_dow</th>\n",
       "      <th>order_hour_of_day</th>\n",
       "      <th>days_since_prior_order</th>\n",
       "      <th>first_time_ordering</th>\n",
       "      <th>product_id</th>\n",
       "      <th>add_to_cart_order</th>\n",
       "      <th>reordered</th>\n",
       "      <th>...</th>\n",
       "      <th>Age</th>\n",
       "      <th>date_joined</th>\n",
       "      <th>number_of_dependents</th>\n",
       "      <th>Family_status</th>\n",
       "      <th>income</th>\n",
       "      <th>_merge</th>\n",
       "      <th>Region</th>\n",
       "      <th>exclusion_flag</th>\n",
       "      <th>age_flag</th>\n",
       "      <th>income_flag</th>\n",
       "    </tr>\n",
       "  </thead>\n",
       "  <tbody>\n",
       "    <tr>\n",
       "      <th>0</th>\n",
       "      <td>2539329</td>\n",
       "      <td>1</td>\n",
       "      <td>1</td>\n",
       "      <td>2</td>\n",
       "      <td>8</td>\n",
       "      <td>NaN</td>\n",
       "      <td>True</td>\n",
       "      <td>196.0</td>\n",
       "      <td>1.0</td>\n",
       "      <td>0.0</td>\n",
       "      <td>...</td>\n",
       "      <td>31</td>\n",
       "      <td>2/17/2019</td>\n",
       "      <td>3</td>\n",
       "      <td>married</td>\n",
       "      <td>40423</td>\n",
       "      <td>both</td>\n",
       "      <td>West</td>\n",
       "      <td>Regular_activity_customer</td>\n",
       "      <td>Young_adult</td>\n",
       "      <td>low_income</td>\n",
       "    </tr>\n",
       "    <tr>\n",
       "      <th>1</th>\n",
       "      <td>2398795</td>\n",
       "      <td>1</td>\n",
       "      <td>2</td>\n",
       "      <td>3</td>\n",
       "      <td>7</td>\n",
       "      <td>15.0</td>\n",
       "      <td>False</td>\n",
       "      <td>196.0</td>\n",
       "      <td>1.0</td>\n",
       "      <td>1.0</td>\n",
       "      <td>...</td>\n",
       "      <td>31</td>\n",
       "      <td>2/17/2019</td>\n",
       "      <td>3</td>\n",
       "      <td>married</td>\n",
       "      <td>40423</td>\n",
       "      <td>both</td>\n",
       "      <td>West</td>\n",
       "      <td>Regular_activity_customer</td>\n",
       "      <td>Young_adult</td>\n",
       "      <td>low_income</td>\n",
       "    </tr>\n",
       "    <tr>\n",
       "      <th>2</th>\n",
       "      <td>473747</td>\n",
       "      <td>1</td>\n",
       "      <td>3</td>\n",
       "      <td>3</td>\n",
       "      <td>12</td>\n",
       "      <td>21.0</td>\n",
       "      <td>False</td>\n",
       "      <td>196.0</td>\n",
       "      <td>1.0</td>\n",
       "      <td>1.0</td>\n",
       "      <td>...</td>\n",
       "      <td>31</td>\n",
       "      <td>2/17/2019</td>\n",
       "      <td>3</td>\n",
       "      <td>married</td>\n",
       "      <td>40423</td>\n",
       "      <td>both</td>\n",
       "      <td>West</td>\n",
       "      <td>Regular_activity_customer</td>\n",
       "      <td>Young_adult</td>\n",
       "      <td>low_income</td>\n",
       "    </tr>\n",
       "    <tr>\n",
       "      <th>3</th>\n",
       "      <td>2254736</td>\n",
       "      <td>1</td>\n",
       "      <td>4</td>\n",
       "      <td>4</td>\n",
       "      <td>7</td>\n",
       "      <td>29.0</td>\n",
       "      <td>False</td>\n",
       "      <td>196.0</td>\n",
       "      <td>1.0</td>\n",
       "      <td>1.0</td>\n",
       "      <td>...</td>\n",
       "      <td>31</td>\n",
       "      <td>2/17/2019</td>\n",
       "      <td>3</td>\n",
       "      <td>married</td>\n",
       "      <td>40423</td>\n",
       "      <td>both</td>\n",
       "      <td>West</td>\n",
       "      <td>Regular_activity_customer</td>\n",
       "      <td>Young_adult</td>\n",
       "      <td>low_income</td>\n",
       "    </tr>\n",
       "    <tr>\n",
       "      <th>4</th>\n",
       "      <td>431534</td>\n",
       "      <td>1</td>\n",
       "      <td>5</td>\n",
       "      <td>4</td>\n",
       "      <td>15</td>\n",
       "      <td>28.0</td>\n",
       "      <td>False</td>\n",
       "      <td>196.0</td>\n",
       "      <td>1.0</td>\n",
       "      <td>1.0</td>\n",
       "      <td>...</td>\n",
       "      <td>31</td>\n",
       "      <td>2/17/2019</td>\n",
       "      <td>3</td>\n",
       "      <td>married</td>\n",
       "      <td>40423</td>\n",
       "      <td>both</td>\n",
       "      <td>West</td>\n",
       "      <td>Regular_activity_customer</td>\n",
       "      <td>Young_adult</td>\n",
       "      <td>low_income</td>\n",
       "    </tr>\n",
       "  </tbody>\n",
       "</table>\n",
       "<p>5 rows × 38 columns</p>\n",
       "</div>"
      ],
      "text/plain": [
       "   order_id  user_id  order_number  order_dow  order_hour_of_day  \\\n",
       "0   2539329        1             1          2                  8   \n",
       "1   2398795        1             2          3                  7   \n",
       "2    473747        1             3          3                 12   \n",
       "3   2254736        1             4          4                  7   \n",
       "4    431534        1             5          4                 15   \n",
       "\n",
       "   days_since_prior_order  first_time_ordering  product_id  add_to_cart_order  \\\n",
       "0                     NaN                 True       196.0                1.0   \n",
       "1                    15.0                False       196.0                1.0   \n",
       "2                    21.0                False       196.0                1.0   \n",
       "3                    29.0                False       196.0                1.0   \n",
       "4                    28.0                False       196.0                1.0   \n",
       "\n",
       "   reordered  ... Age  date_joined  number_of_dependents  Family_status  \\\n",
       "0        0.0  ...  31    2/17/2019                     3        married   \n",
       "1        1.0  ...  31    2/17/2019                     3        married   \n",
       "2        1.0  ...  31    2/17/2019                     3        married   \n",
       "3        1.0  ...  31    2/17/2019                     3        married   \n",
       "4        1.0  ...  31    2/17/2019                     3        married   \n",
       "\n",
       "  income _merge Region             exclusion_flag     age_flag income_flag  \n",
       "0  40423   both   West  Regular_activity_customer  Young_adult  low_income  \n",
       "1  40423   both   West  Regular_activity_customer  Young_adult  low_income  \n",
       "2  40423   both   West  Regular_activity_customer  Young_adult  low_income  \n",
       "3  40423   both   West  Regular_activity_customer  Young_adult  low_income  \n",
       "4  40423   both   West  Regular_activity_customer  Young_adult  low_income  \n",
       "\n",
       "[5 rows x 38 columns]"
      ]
     },
     "execution_count": 28,
     "metadata": {},
     "output_type": "execute_result"
    }
   ],
   "source": [
    "instacart_regular_activity.head()"
   ]
  },
  {
   "cell_type": "markdown",
   "id": "dae1d2ed",
   "metadata": {},
   "source": [
    "Categories will be 0-1 dependents: small family, 1-2 dependents: medium family, 3 or more: large family"
   ]
  },
  {
   "cell_type": "code",
   "execution_count": 29,
   "id": "a1ccfff4",
   "metadata": {},
   "outputs": [
    {
     "name": "stderr",
     "output_type": "stream",
     "text": [
      "C:\\Users\\makay\\AppData\\Local\\Temp\\ipykernel_19404\\1372580261.py:2: SettingWithCopyWarning: \n",
      "A value is trying to be set on a copy of a slice from a DataFrame.\n",
      "Try using .loc[row_indexer,col_indexer] = value instead\n",
      "\n",
      "See the caveats in the documentation: https://pandas.pydata.org/pandas-docs/stable/user_guide/indexing.html#returning-a-view-versus-a-copy\n",
      "  instacart_regular_activity.loc[(instacart_regular_activity['number_of_dependents']>=0)&(instacart_regular_activity['number_of_dependents']<=1), 'dependent_flag'] = 'small_family'\n"
     ]
    }
   ],
   "source": [
    "#Creating dependent flag\n",
    "instacart_regular_activity.loc[(instacart_regular_activity['number_of_dependents']>=0)&(instacart_regular_activity['number_of_dependents']<=1), 'dependent_flag'] = 'small_family'\n",
    "instacart_regular_activity.loc[(instacart_regular_activity['number_of_dependents']>=1)&(instacart_regular_activity['number_of_dependents']<=2), 'dependent_flag'] = 'middle_family'\n",
    "instacart_regular_activity.loc[instacart_regular_activity['number_of_dependents']>=3, 'dependent_flag'] = 'large_family'"
   ]
  },
  {
   "cell_type": "code",
   "execution_count": 30,
   "id": "bc40e794",
   "metadata": {},
   "outputs": [
    {
     "data": {
      "text/plain": [
       "middle_family    14633262\n",
       "large_family      7344622\n",
       "small_family      7319482\n",
       "Name: dependent_flag, dtype: int64"
      ]
     },
     "execution_count": 30,
     "metadata": {},
     "output_type": "execute_result"
    }
   ],
   "source": [
    "#Checking results\n",
    "instacart_regular_activity['dependent_flag'].value_counts(dropna=False)"
   ]
  },
  {
   "cell_type": "markdown",
   "id": "f9052699",
   "metadata": {},
   "source": [
    "Profiling department_id based on department 8 which is pets "
   ]
  },
  {
   "cell_type": "markdown",
   "id": "a6791843",
   "metadata": {},
   "source": [
    "2 Categories if department 8 is bought we can assume they are: pet friendly, if department 8 isn't bought then we can assume they are: anti pet "
   ]
  },
  {
   "cell_type": "code",
   "execution_count": 31,
   "id": "8c4b98be",
   "metadata": {},
   "outputs": [
    {
     "name": "stderr",
     "output_type": "stream",
     "text": [
      "C:\\Users\\makay\\AppData\\Local\\Temp\\ipykernel_19404\\2143296720.py:2: SettingWithCopyWarning: \n",
      "A value is trying to be set on a copy of a slice from a DataFrame.\n",
      "Try using .loc[row_indexer,col_indexer] = value instead\n",
      "\n",
      "See the caveats in the documentation: https://pandas.pydata.org/pandas-docs/stable/user_guide/indexing.html#returning-a-view-versus-a-copy\n",
      "  instacart_regular_activity.loc[(instacart_regular_activity['department_id'] == 8), 'pet_flag'] = 'pet_friendly'\n"
     ]
    }
   ],
   "source": [
    "#Making pet flag\n",
    "instacart_regular_activity.loc[(instacart_regular_activity['department_id'] == 8), 'pet_flag'] = 'pet_friendly'\n",
    "instacart_regular_activity.loc[(instacart_regular_activity['department_id'] != 8), 'pet_flag'] = 'anti_pet'"
   ]
  },
  {
   "cell_type": "code",
   "execution_count": 32,
   "id": "5b2b5086",
   "metadata": {},
   "outputs": [
    {
     "data": {
      "text/plain": [
       "anti_pet        29209509\n",
       "pet_friendly       87857\n",
       "Name: pet_flag, dtype: int64"
      ]
     },
     "execution_count": 32,
     "metadata": {},
     "output_type": "execute_result"
    }
   ],
   "source": [
    "instacart_regular_activity['pet_flag'].value_counts(dropna=False)"
   ]
  },
  {
   "cell_type": "markdown",
   "id": "595d02cb",
   "metadata": {},
   "source": [
    "# Creating visualizations based on profiling"
   ]
  },
  {
   "cell_type": "code",
   "execution_count": 33,
   "id": "6a4f75b0",
   "metadata": {},
   "outputs": [
    {
     "data": {
      "image/png": "[encoded data removed]",
      "text/plain": [
       "<Figure size 640x480 with 1 Axes>"
      ]
     },
     "metadata": {},
     "output_type": "display_data"
    }
   ],
   "source": [
    "#Bar chart for Age\n",
    "bar = instacart_regular_activity['age_flag'].value_counts().plot.bar(color =['red', 'pink', 'orange'])"
   ]
  },
  {
   "cell_type": "code",
   "execution_count": 34,
   "id": "fd7decaf",
   "metadata": {},
   "outputs": [
    {
     "data": {
      "image/png": "[encoded data removed]",
      "text/plain": [
       "<Figure size 640x480 with 1 Axes>"
      ]
     },
     "metadata": {},
     "output_type": "display_data"
    }
   ],
   "source": [
    "#Creating bar chart for income\n",
    "bar = instacart_regular_activity['income_flag'].value_counts().plot.bar(color =['yellow', 'green', 'blue','purple','pink'])"
   ]
  },
  {
   "cell_type": "code",
   "execution_count": 35,
   "id": "2f42a88f",
   "metadata": {},
   "outputs": [
    {
     "data": {
      "image/png": "[encoded data removed]",
      "text/plain": [
       "<Figure size 640x480 with 1 Axes>"
      ]
     },
     "metadata": {},
     "output_type": "display_data"
    }
   ],
   "source": [
    "#Creating a bar chart for number of dependents\n",
    "bar = instacart_regular_activity['dependent_flag'].value_counts().plot.bar(color =['yellow', 'pink', 'orange'])"
   ]
  },
  {
   "cell_type": "code",
   "execution_count": 36,
   "id": "74811922",
   "metadata": {},
   "outputs": [
    {
     "data": {
      "image/png": "[encoded data removed]",
      "text/plain": [
       "<Figure size 640x480 with 1 Axes>"
      ]
     },
     "metadata": {},
     "output_type": "display_data"
    }
   ],
   "source": [
    "#Creating a bar chart for department id: pet\n",
    "bar = instacart_regular_activity['pet_flag'].value_counts().plot.bar(color =['purple','red'])"
   ]
  },
  {
   "cell_type": "markdown",
   "id": "226b96bd",
   "metadata": {},
   "source": [
    "# Finding frequency  and expenditure with  max, mean, and min variables"
   ]
  },
  {
   "cell_type": "markdown",
   "id": "b933c4d5",
   "metadata": {},
   "source": [
    "Age Profile"
   ]
  },
  {
   "cell_type": "code",
   "execution_count": 42,
   "id": "b83bf8bb",
   "metadata": {},
   "outputs": [
    {
     "data": {
      "text/html": [
       "<div>\n",
       "<style scoped>\n",
       "    .dataframe tbody tr th:only-of-type {\n",
       "        vertical-align: middle;\n",
       "    }\n",
       "\n",
       "    .dataframe tbody tr th {\n",
       "        vertical-align: top;\n",
       "    }\n",
       "\n",
       "    .dataframe thead tr th {\n",
       "        text-align: left;\n",
       "    }\n",
       "\n",
       "    .dataframe thead tr:last-of-type th {\n",
       "        text-align: right;\n",
       "    }\n",
       "</style>\n",
       "<table border=\"1\" class=\"dataframe\">\n",
       "  <thead>\n",
       "    <tr>\n",
       "      <th></th>\n",
       "      <th colspan=\"3\" halign=\"left\">days_since_prior_order</th>\n",
       "    </tr>\n",
       "    <tr>\n",
       "      <th></th>\n",
       "      <th>mean</th>\n",
       "      <th>min</th>\n",
       "      <th>max</th>\n",
       "    </tr>\n",
       "    <tr>\n",
       "      <th>age_flag</th>\n",
       "      <th></th>\n",
       "      <th></th>\n",
       "      <th></th>\n",
       "    </tr>\n",
       "  </thead>\n",
       "  <tbody>\n",
       "    <tr>\n",
       "      <th>Middle_age_adult</th>\n",
       "      <td>10.828125</td>\n",
       "      <td>0.0</td>\n",
       "      <td>30.0</td>\n",
       "    </tr>\n",
       "    <tr>\n",
       "      <th>Senior_adult</th>\n",
       "      <td>10.789062</td>\n",
       "      <td>0.0</td>\n",
       "      <td>30.0</td>\n",
       "    </tr>\n",
       "    <tr>\n",
       "      <th>Young_adult</th>\n",
       "      <td>10.820312</td>\n",
       "      <td>0.0</td>\n",
       "      <td>30.0</td>\n",
       "    </tr>\n",
       "  </tbody>\n",
       "</table>\n",
       "</div>"
      ],
      "text/plain": [
       "                 days_since_prior_order           \n",
       "                                   mean  min   max\n",
       "age_flag                                          \n",
       "Middle_age_adult              10.828125  0.0  30.0\n",
       "Senior_adult                  10.789062  0.0  30.0\n",
       "Young_adult                   10.820312  0.0  30.0"
      ]
     },
     "execution_count": 42,
     "metadata": {},
     "output_type": "execute_result"
    }
   ],
   "source": [
    "#Aggregating using agg()\n",
    "instacart_regular_activity.groupby('age_flag').agg({'days_since_prior_order':['mean','min','max']})"
   ]
  },
  {
   "cell_type": "markdown",
   "id": "01866fca",
   "metadata": {},
   "source": [
    "Income Profile"
   ]
  },
  {
   "cell_type": "code",
   "execution_count": 44,
   "id": "69587745",
   "metadata": {},
   "outputs": [
    {
     "data": {
      "text/html": [
       "<div>\n",
       "<style scoped>\n",
       "    .dataframe tbody tr th:only-of-type {\n",
       "        vertical-align: middle;\n",
       "    }\n",
       "\n",
       "    .dataframe tbody tr th {\n",
       "        vertical-align: top;\n",
       "    }\n",
       "\n",
       "    .dataframe thead tr th {\n",
       "        text-align: left;\n",
       "    }\n",
       "\n",
       "    .dataframe thead tr:last-of-type th {\n",
       "        text-align: right;\n",
       "    }\n",
       "</style>\n",
       "<table border=\"1\" class=\"dataframe\">\n",
       "  <thead>\n",
       "    <tr>\n",
       "      <th></th>\n",
       "      <th colspan=\"3\" halign=\"left\">days_since_prior_order</th>\n",
       "    </tr>\n",
       "    <tr>\n",
       "      <th></th>\n",
       "      <th>mean</th>\n",
       "      <th>min</th>\n",
       "      <th>max</th>\n",
       "    </tr>\n",
       "    <tr>\n",
       "      <th>income_flag</th>\n",
       "      <th></th>\n",
       "      <th></th>\n",
       "      <th></th>\n",
       "    </tr>\n",
       "  </thead>\n",
       "  <tbody>\n",
       "    <tr>\n",
       "      <th>high_income</th>\n",
       "      <td>10.406250</td>\n",
       "      <td>0.0</td>\n",
       "      <td>30.0</td>\n",
       "    </tr>\n",
       "    <tr>\n",
       "      <th>high_middle_income</th>\n",
       "      <td>10.148438</td>\n",
       "      <td>0.0</td>\n",
       "      <td>30.0</td>\n",
       "    </tr>\n",
       "    <tr>\n",
       "      <th>low_income</th>\n",
       "      <td>10.851562</td>\n",
       "      <td>0.0</td>\n",
       "      <td>30.0</td>\n",
       "    </tr>\n",
       "    <tr>\n",
       "      <th>low_middle_income</th>\n",
       "      <td>10.789062</td>\n",
       "      <td>0.0</td>\n",
       "      <td>30.0</td>\n",
       "    </tr>\n",
       "    <tr>\n",
       "      <th>middle_income</th>\n",
       "      <td>9.976562</td>\n",
       "      <td>0.0</td>\n",
       "      <td>30.0</td>\n",
       "    </tr>\n",
       "  </tbody>\n",
       "</table>\n",
       "</div>"
      ],
      "text/plain": [
       "                   days_since_prior_order           \n",
       "                                     mean  min   max\n",
       "income_flag                                         \n",
       "high_income                     10.406250  0.0  30.0\n",
       "high_middle_income              10.148438  0.0  30.0\n",
       "low_income                      10.851562  0.0  30.0\n",
       "low_middle_income               10.789062  0.0  30.0\n",
       "middle_income                    9.976562  0.0  30.0"
      ]
     },
     "execution_count": 44,
     "metadata": {},
     "output_type": "execute_result"
    }
   ],
   "source": [
    "#Aggregating using agg()\n",
    "instacart_regular_activity.groupby('income_flag').agg({'days_since_prior_order':['mean','min','max']})"
   ]
  },
  {
   "cell_type": "markdown",
   "id": "8b8602aa",
   "metadata": {},
   "source": [
    "Dependent Profile"
   ]
  },
  {
   "cell_type": "code",
   "execution_count": 47,
   "id": "8aed320f",
   "metadata": {},
   "outputs": [
    {
     "data": {
      "text/html": [
       "<div>\n",
       "<style scoped>\n",
       "    .dataframe tbody tr th:only-of-type {\n",
       "        vertical-align: middle;\n",
       "    }\n",
       "\n",
       "    .dataframe tbody tr th {\n",
       "        vertical-align: top;\n",
       "    }\n",
       "\n",
       "    .dataframe thead tr th {\n",
       "        text-align: left;\n",
       "    }\n",
       "\n",
       "    .dataframe thead tr:last-of-type th {\n",
       "        text-align: right;\n",
       "    }\n",
       "</style>\n",
       "<table border=\"1\" class=\"dataframe\">\n",
       "  <thead>\n",
       "    <tr>\n",
       "      <th></th>\n",
       "      <th colspan=\"3\" halign=\"left\">days_since_prior_order</th>\n",
       "    </tr>\n",
       "    <tr>\n",
       "      <th></th>\n",
       "      <th>mean</th>\n",
       "      <th>min</th>\n",
       "      <th>max</th>\n",
       "    </tr>\n",
       "    <tr>\n",
       "      <th>dependent_flag</th>\n",
       "      <th></th>\n",
       "      <th></th>\n",
       "      <th></th>\n",
       "    </tr>\n",
       "  </thead>\n",
       "  <tbody>\n",
       "    <tr>\n",
       "      <th>large_family</th>\n",
       "      <td>10.828125</td>\n",
       "      <td>0.0</td>\n",
       "      <td>30.0</td>\n",
       "    </tr>\n",
       "    <tr>\n",
       "      <th>middle_family</th>\n",
       "      <td>10.820312</td>\n",
       "      <td>0.0</td>\n",
       "      <td>30.0</td>\n",
       "    </tr>\n",
       "    <tr>\n",
       "      <th>small_family</th>\n",
       "      <td>10.796875</td>\n",
       "      <td>0.0</td>\n",
       "      <td>30.0</td>\n",
       "    </tr>\n",
       "  </tbody>\n",
       "</table>\n",
       "</div>"
      ],
      "text/plain": [
       "               days_since_prior_order           \n",
       "                                 mean  min   max\n",
       "dependent_flag                                  \n",
       "large_family                10.828125  0.0  30.0\n",
       "middle_family               10.820312  0.0  30.0\n",
       "small_family                10.796875  0.0  30.0"
      ]
     },
     "execution_count": 47,
     "metadata": {},
     "output_type": "execute_result"
    }
   ],
   "source": [
    "#Aggregating using agg()\n",
    "instacart_regular_activity.groupby('dependent_flag').agg({'days_since_prior_order':['mean','min','max']})"
   ]
  },
  {
   "cell_type": "markdown",
   "id": "3f10adb7",
   "metadata": {},
   "source": [
    "Department_id Profile"
   ]
  },
  {
   "cell_type": "code",
   "execution_count": 48,
   "id": "c3b69cc9",
   "metadata": {},
   "outputs": [
    {
     "data": {
      "text/html": [
       "<div>\n",
       "<style scoped>\n",
       "    .dataframe tbody tr th:only-of-type {\n",
       "        vertical-align: middle;\n",
       "    }\n",
       "\n",
       "    .dataframe tbody tr th {\n",
       "        vertical-align: top;\n",
       "    }\n",
       "\n",
       "    .dataframe thead tr th {\n",
       "        text-align: left;\n",
       "    }\n",
       "\n",
       "    .dataframe thead tr:last-of-type th {\n",
       "        text-align: right;\n",
       "    }\n",
       "</style>\n",
       "<table border=\"1\" class=\"dataframe\">\n",
       "  <thead>\n",
       "    <tr>\n",
       "      <th></th>\n",
       "      <th colspan=\"3\" halign=\"left\">days_since_prior_order</th>\n",
       "    </tr>\n",
       "    <tr>\n",
       "      <th></th>\n",
       "      <th>mean</th>\n",
       "      <th>min</th>\n",
       "      <th>max</th>\n",
       "    </tr>\n",
       "    <tr>\n",
       "      <th>pet_flag</th>\n",
       "      <th></th>\n",
       "      <th></th>\n",
       "      <th></th>\n",
       "    </tr>\n",
       "  </thead>\n",
       "  <tbody>\n",
       "    <tr>\n",
       "      <th>anti_pet</th>\n",
       "      <td>10.812500</td>\n",
       "      <td>0.0</td>\n",
       "      <td>30.0</td>\n",
       "    </tr>\n",
       "    <tr>\n",
       "      <th>pet_friendly</th>\n",
       "      <td>11.578125</td>\n",
       "      <td>0.0</td>\n",
       "      <td>30.0</td>\n",
       "    </tr>\n",
       "  </tbody>\n",
       "</table>\n",
       "</div>"
      ],
      "text/plain": [
       "             days_since_prior_order           \n",
       "                               mean  min   max\n",
       "pet_flag                                      \n",
       "anti_pet                  10.812500  0.0  30.0\n",
       "pet_friendly              11.578125  0.0  30.0"
      ]
     },
     "execution_count": 48,
     "metadata": {},
     "output_type": "execute_result"
    }
   ],
   "source": [
    "#Aggregating using agg()\n",
    "instacart_regular_activity.groupby('pet_flag').agg({'days_since_prior_order':['mean','min','max']})"
   ]
  },
  {
   "cell_type": "markdown",
   "id": "e90b1a96",
   "metadata": {},
   "source": [
    "# Compare customer profiles with regions and departments"
   ]
  },
  {
   "cell_type": "markdown",
   "id": "e49cf6cd",
   "metadata": {},
   "source": [
    "Age  Profile"
   ]
  },
  {
   "cell_type": "code",
   "execution_count": 55,
   "id": "674e987d",
   "metadata": {},
   "outputs": [],
   "source": [
    "#Creating crosstab for age and region\n",
    "regional_age = pd.crosstab(instacart_regular_activity['age_flag'], instacart_regular_activity['Region'])"
   ]
  },
  {
   "cell_type": "code",
   "execution_count": 56,
   "id": "d88384f4",
   "metadata": {},
   "outputs": [
    {
     "data": {
      "text/html": [
       "<div>\n",
       "<style scoped>\n",
       "    .dataframe tbody tr th:only-of-type {\n",
       "        vertical-align: middle;\n",
       "    }\n",
       "\n",
       "    .dataframe tbody tr th {\n",
       "        vertical-align: top;\n",
       "    }\n",
       "\n",
       "    .dataframe thead th {\n",
       "        text-align: right;\n",
       "    }\n",
       "</style>\n",
       "<table border=\"1\" class=\"dataframe\">\n",
       "  <thead>\n",
       "    <tr style=\"text-align: right;\">\n",
       "      <th>Region</th>\n",
       "      <th>Midwest</th>\n",
       "      <th>Northeast</th>\n",
       "      <th>South</th>\n",
       "      <th>West</th>\n",
       "    </tr>\n",
       "    <tr>\n",
       "      <th>age_flag</th>\n",
       "      <th></th>\n",
       "      <th></th>\n",
       "      <th></th>\n",
       "      <th></th>\n",
       "    </tr>\n",
       "  </thead>\n",
       "  <tbody>\n",
       "    <tr>\n",
       "      <th>Middle_age_adult</th>\n",
       "      <td>198261</td>\n",
       "      <td>181825</td>\n",
       "      <td>186544</td>\n",
       "      <td>9103902</td>\n",
       "    </tr>\n",
       "    <tr>\n",
       "      <th>Senior_adult</th>\n",
       "      <td>177934</td>\n",
       "      <td>206484</td>\n",
       "      <td>191253</td>\n",
       "      <td>8994042</td>\n",
       "    </tr>\n",
       "    <tr>\n",
       "      <th>Young_adult</th>\n",
       "      <td>177786</td>\n",
       "      <td>187921</td>\n",
       "      <td>189892</td>\n",
       "      <td>9063476</td>\n",
       "    </tr>\n",
       "  </tbody>\n",
       "</table>\n",
       "</div>"
      ],
      "text/plain": [
       "Region            Midwest  Northeast   South     West\n",
       "age_flag                                             \n",
       "Middle_age_adult   198261     181825  186544  9103902\n",
       "Senior_adult       177934     206484  191253  8994042\n",
       "Young_adult        177786     187921  189892  9063476"
      ]
     },
     "execution_count": 56,
     "metadata": {},
     "output_type": "execute_result"
    }
   ],
   "source": [
    "regional_age"
   ]
  },
  {
   "cell_type": "code",
   "execution_count": 58,
   "id": "dd084726",
   "metadata": {},
   "outputs": [
    {
     "data": {
      "image/png": "[encoded data removed]",
      "text/plain": [
       "<Figure size 640x480 with 1 Axes>"
      ]
     },
     "metadata": {},
     "output_type": "display_data"
    }
   ],
   "source": [
    "#Creating visualization based on results\n",
    "regional_age_bar = regional_age.plot(kind= 'bar', stacked = True)"
   ]
  },
  {
   "cell_type": "code",
   "execution_count": 63,
   "id": "6a761f87",
   "metadata": {},
   "outputs": [],
   "source": [
    "#Creating crosstab for age and department\n",
    "department_age = pd.crosstab(instacart_regular_activity['department_id'], instacart_regular_activity['age_flag'])"
   ]
  },
  {
   "cell_type": "code",
   "execution_count": 64,
   "id": "4ec63d69",
   "metadata": {},
   "outputs": [
    {
     "data": {
      "text/html": [
       "<div>\n",
       "<style scoped>\n",
       "    .dataframe tbody tr th:only-of-type {\n",
       "        vertical-align: middle;\n",
       "    }\n",
       "\n",
       "    .dataframe tbody tr th {\n",
       "        vertical-align: top;\n",
       "    }\n",
       "\n",
       "    .dataframe thead th {\n",
       "        text-align: right;\n",
       "    }\n",
       "</style>\n",
       "<table border=\"1\" class=\"dataframe\">\n",
       "  <thead>\n",
       "    <tr style=\"text-align: right;\">\n",
       "      <th>age_flag</th>\n",
       "      <th>Middle_age_adult</th>\n",
       "      <th>Senior_adult</th>\n",
       "      <th>Young_adult</th>\n",
       "    </tr>\n",
       "    <tr>\n",
       "      <th>department_id</th>\n",
       "      <th></th>\n",
       "      <th></th>\n",
       "      <th></th>\n",
       "    </tr>\n",
       "  </thead>\n",
       "  <tbody>\n",
       "    <tr>\n",
       "      <th>1</th>\n",
       "      <td>663146</td>\n",
       "      <td>659066</td>\n",
       "      <td>656050</td>\n",
       "    </tr>\n",
       "    <tr>\n",
       "      <th>2</th>\n",
       "      <td>10517</td>\n",
       "      <td>10375</td>\n",
       "      <td>10893</td>\n",
       "    </tr>\n",
       "    <tr>\n",
       "      <th>3</th>\n",
       "      <td>351826</td>\n",
       "      <td>346690</td>\n",
       "      <td>349619</td>\n",
       "    </tr>\n",
       "    <tr>\n",
       "      <th>4</th>\n",
       "      <td>2829773</td>\n",
       "      <td>2807508</td>\n",
       "      <td>2819013</td>\n",
       "    </tr>\n",
       "    <tr>\n",
       "      <th>5</th>\n",
       "      <td>45898</td>\n",
       "      <td>43014</td>\n",
       "      <td>47182</td>\n",
       "    </tr>\n",
       "    <tr>\n",
       "      <th>6</th>\n",
       "      <td>80150</td>\n",
       "      <td>77918</td>\n",
       "      <td>80360</td>\n",
       "    </tr>\n",
       "    <tr>\n",
       "      <th>7</th>\n",
       "      <td>804425</td>\n",
       "      <td>798961</td>\n",
       "      <td>790156</td>\n",
       "    </tr>\n",
       "    <tr>\n",
       "      <th>8</th>\n",
       "      <td>29205</td>\n",
       "      <td>28813</td>\n",
       "      <td>28692</td>\n",
       "    </tr>\n",
       "    <tr>\n",
       "      <th>9</th>\n",
       "      <td>257723</td>\n",
       "      <td>252868</td>\n",
       "      <td>255364</td>\n",
       "    </tr>\n",
       "    <tr>\n",
       "      <th>10</th>\n",
       "      <td>10193</td>\n",
       "      <td>10301</td>\n",
       "      <td>10580</td>\n",
       "    </tr>\n",
       "    <tr>\n",
       "      <th>11</th>\n",
       "      <td>134098</td>\n",
       "      <td>129216</td>\n",
       "      <td>130412</td>\n",
       "    </tr>\n",
       "    <tr>\n",
       "      <th>12</th>\n",
       "      <td>210457</td>\n",
       "      <td>210249</td>\n",
       "      <td>208685</td>\n",
       "    </tr>\n",
       "    <tr>\n",
       "      <th>13</th>\n",
       "      <td>557072</td>\n",
       "      <td>549437</td>\n",
       "      <td>550899</td>\n",
       "    </tr>\n",
       "    <tr>\n",
       "      <th>14</th>\n",
       "      <td>210423</td>\n",
       "      <td>207575</td>\n",
       "      <td>211690</td>\n",
       "    </tr>\n",
       "    <tr>\n",
       "      <th>15</th>\n",
       "      <td>316629</td>\n",
       "      <td>310951</td>\n",
       "      <td>315110</td>\n",
       "    </tr>\n",
       "    <tr>\n",
       "      <th>16</th>\n",
       "      <td>1615888</td>\n",
       "      <td>1600611</td>\n",
       "      <td>1618106</td>\n",
       "    </tr>\n",
       "    <tr>\n",
       "      <th>17</th>\n",
       "      <td>218450</td>\n",
       "      <td>216698</td>\n",
       "      <td>214931</td>\n",
       "    </tr>\n",
       "    <tr>\n",
       "      <th>18</th>\n",
       "      <td>130471</td>\n",
       "      <td>125906</td>\n",
       "      <td>125826</td>\n",
       "    </tr>\n",
       "    <tr>\n",
       "      <th>19</th>\n",
       "      <td>861827</td>\n",
       "      <td>852693</td>\n",
       "      <td>863161</td>\n",
       "    </tr>\n",
       "    <tr>\n",
       "      <th>20</th>\n",
       "      <td>312011</td>\n",
       "      <td>311265</td>\n",
       "      <td>312020</td>\n",
       "    </tr>\n",
       "    <tr>\n",
       "      <th>21</th>\n",
       "      <td>20350</td>\n",
       "      <td>19598</td>\n",
       "      <td>20326</td>\n",
       "    </tr>\n",
       "  </tbody>\n",
       "</table>\n",
       "</div>"
      ],
      "text/plain": [
       "age_flag       Middle_age_adult  Senior_adult  Young_adult\n",
       "department_id                                             \n",
       "1                        663146        659066       656050\n",
       "2                         10517         10375        10893\n",
       "3                        351826        346690       349619\n",
       "4                       2829773       2807508      2819013\n",
       "5                         45898         43014        47182\n",
       "6                         80150         77918        80360\n",
       "7                        804425        798961       790156\n",
       "8                         29205         28813        28692\n",
       "9                        257723        252868       255364\n",
       "10                        10193         10301        10580\n",
       "11                       134098        129216       130412\n",
       "12                       210457        210249       208685\n",
       "13                       557072        549437       550899\n",
       "14                       210423        207575       211690\n",
       "15                       316629        310951       315110\n",
       "16                      1615888       1600611      1618106\n",
       "17                       218450        216698       214931\n",
       "18                       130471        125906       125826\n",
       "19                       861827        852693       863161\n",
       "20                       312011        311265       312020\n",
       "21                        20350         19598        20326"
      ]
     },
     "execution_count": 64,
     "metadata": {},
     "output_type": "execute_result"
    }
   ],
   "source": [
    "department_age"
   ]
  },
  {
   "cell_type": "code",
   "execution_count": 65,
   "id": "ccf49e0e",
   "metadata": {},
   "outputs": [
    {
     "data": {
      "image/png": "[encoded data removed]",
      "text/plain": [
       "<Figure size 640x480 with 1 Axes>"
      ]
     },
     "metadata": {},
     "output_type": "display_data"
    }
   ],
   "source": [
    "#Creating visualization based on results\n",
    "department_age_bar = department_age.plot(kind= 'bar', stacked = True)"
   ]
  },
  {
   "cell_type": "markdown",
   "id": "779f48e5",
   "metadata": {},
   "source": [
    "Income Profile"
   ]
  },
  {
   "cell_type": "code",
   "execution_count": 73,
   "id": "b192bdf5",
   "metadata": {},
   "outputs": [],
   "source": [
    "#Creating crosstab for income and region\n",
    "regional_income = pd.crosstab(instacart_regular_activity['Region'], instacart_regular_activity['income_flag'])"
   ]
  },
  {
   "cell_type": "code",
   "execution_count": 74,
   "id": "8660ddd1",
   "metadata": {},
   "outputs": [
    {
     "data": {
      "text/html": [
       "<div>\n",
       "<style scoped>\n",
       "    .dataframe tbody tr th:only-of-type {\n",
       "        vertical-align: middle;\n",
       "    }\n",
       "\n",
       "    .dataframe tbody tr th {\n",
       "        vertical-align: top;\n",
       "    }\n",
       "\n",
       "    .dataframe thead th {\n",
       "        text-align: right;\n",
       "    }\n",
       "</style>\n",
       "<table border=\"1\" class=\"dataframe\">\n",
       "  <thead>\n",
       "    <tr style=\"text-align: right;\">\n",
       "      <th>income_flag</th>\n",
       "      <th>high_income</th>\n",
       "      <th>high_middle_income</th>\n",
       "      <th>low_income</th>\n",
       "      <th>low_middle_income</th>\n",
       "      <th>middle_income</th>\n",
       "    </tr>\n",
       "    <tr>\n",
       "      <th>Region</th>\n",
       "      <th></th>\n",
       "      <th></th>\n",
       "      <th></th>\n",
       "      <th></th>\n",
       "      <th></th>\n",
       "    </tr>\n",
       "  </thead>\n",
       "  <tbody>\n",
       "    <tr>\n",
       "      <th>Midwest</th>\n",
       "      <td>3546</td>\n",
       "      <td>2334</td>\n",
       "      <td>295408</td>\n",
       "      <td>256074</td>\n",
       "      <td>1841</td>\n",
       "    </tr>\n",
       "    <tr>\n",
       "      <th>Northeast</th>\n",
       "      <td>161</td>\n",
       "      <td>1594</td>\n",
       "      <td>313126</td>\n",
       "      <td>263456</td>\n",
       "      <td>4236</td>\n",
       "    </tr>\n",
       "    <tr>\n",
       "      <th>South</th>\n",
       "      <td>610</td>\n",
       "      <td>701</td>\n",
       "      <td>315860</td>\n",
       "      <td>252157</td>\n",
       "      <td>3576</td>\n",
       "    </tr>\n",
       "    <tr>\n",
       "      <th>West</th>\n",
       "      <td>41125</td>\n",
       "      <td>44619</td>\n",
       "      <td>14925974</td>\n",
       "      <td>12435244</td>\n",
       "      <td>135724</td>\n",
       "    </tr>\n",
       "  </tbody>\n",
       "</table>\n",
       "</div>"
      ],
      "text/plain": [
       "income_flag  high_income  high_middle_income  low_income  low_middle_income  \\\n",
       "Region                                                                        \n",
       "Midwest             3546                2334      295408             256074   \n",
       "Northeast            161                1594      313126             263456   \n",
       "South                610                 701      315860             252157   \n",
       "West               41125               44619    14925974           12435244   \n",
       "\n",
       "income_flag  middle_income  \n",
       "Region                      \n",
       "Midwest               1841  \n",
       "Northeast             4236  \n",
       "South                 3576  \n",
       "West                135724  "
      ]
     },
     "execution_count": 74,
     "metadata": {},
     "output_type": "execute_result"
    }
   ],
   "source": [
    "regional_income"
   ]
  },
  {
   "cell_type": "code",
   "execution_count": 75,
   "id": "d03c3605",
   "metadata": {},
   "outputs": [
    {
     "data": {
      "image/png": "[encoded data removed]",
      "text/plain": [
       "<Figure size 640x480 with 1 Axes>"
      ]
     },
     "metadata": {},
     "output_type": "display_data"
    }
   ],
   "source": [
    "#Creating visualization based on results\n",
    "regional_income_bar = regional_income.plot(kind= 'bar', stacked = True)"
   ]
  },
  {
   "cell_type": "code",
   "execution_count": 70,
   "id": "37c53886",
   "metadata": {},
   "outputs": [],
   "source": [
    "#Creating crosstab for income and department\n",
    "department_income = pd.crosstab(instacart_regular_activity['department_id'], instacart_regular_activity['income_flag'])"
   ]
  },
  {
   "cell_type": "code",
   "execution_count": 71,
   "id": "610f0473",
   "metadata": {},
   "outputs": [
    {
     "data": {
      "text/html": [
       "<div>\n",
       "<style scoped>\n",
       "    .dataframe tbody tr th:only-of-type {\n",
       "        vertical-align: middle;\n",
       "    }\n",
       "\n",
       "    .dataframe tbody tr th {\n",
       "        vertical-align: top;\n",
       "    }\n",
       "\n",
       "    .dataframe thead th {\n",
       "        text-align: right;\n",
       "    }\n",
       "</style>\n",
       "<table border=\"1\" class=\"dataframe\">\n",
       "  <thead>\n",
       "    <tr style=\"text-align: right;\">\n",
       "      <th>income_flag</th>\n",
       "      <th>high_income</th>\n",
       "      <th>high_middle_income</th>\n",
       "      <th>low_income</th>\n",
       "      <th>low_middle_income</th>\n",
       "      <th>middle_income</th>\n",
       "    </tr>\n",
       "    <tr>\n",
       "      <th>department_id</th>\n",
       "      <th></th>\n",
       "      <th></th>\n",
       "      <th></th>\n",
       "      <th></th>\n",
       "      <th></th>\n",
       "    </tr>\n",
       "  </thead>\n",
       "  <tbody>\n",
       "    <tr>\n",
       "      <th>1</th>\n",
       "      <td>3172</td>\n",
       "      <td>4262</td>\n",
       "      <td>1073449</td>\n",
       "      <td>915834</td>\n",
       "      <td>11265</td>\n",
       "    </tr>\n",
       "    <tr>\n",
       "      <th>2</th>\n",
       "      <td>60</td>\n",
       "      <td>97</td>\n",
       "      <td>17503</td>\n",
       "      <td>14325</td>\n",
       "      <td>290</td>\n",
       "    </tr>\n",
       "    <tr>\n",
       "      <th>3</th>\n",
       "      <td>2011</td>\n",
       "      <td>2523</td>\n",
       "      <td>563040</td>\n",
       "      <td>488964</td>\n",
       "      <td>7279</td>\n",
       "    </tr>\n",
       "    <tr>\n",
       "      <th>4</th>\n",
       "      <td>9254</td>\n",
       "      <td>10158</td>\n",
       "      <td>4578769</td>\n",
       "      <td>3961071</td>\n",
       "      <td>27102</td>\n",
       "    </tr>\n",
       "    <tr>\n",
       "      <th>5</th>\n",
       "      <td>1307</td>\n",
       "      <td>1293</td>\n",
       "      <td>72140</td>\n",
       "      <td>60111</td>\n",
       "      <td>3135</td>\n",
       "    </tr>\n",
       "    <tr>\n",
       "      <th>6</th>\n",
       "      <td>422</td>\n",
       "      <td>400</td>\n",
       "      <td>128793</td>\n",
       "      <td>111435</td>\n",
       "      <td>1049</td>\n",
       "    </tr>\n",
       "    <tr>\n",
       "      <th>7</th>\n",
       "      <td>4324</td>\n",
       "      <td>4352</td>\n",
       "      <td>1366608</td>\n",
       "      <td>1040733</td>\n",
       "      <td>14673</td>\n",
       "    </tr>\n",
       "    <tr>\n",
       "      <th>8</th>\n",
       "      <td>416</td>\n",
       "      <td>314</td>\n",
       "      <td>45122</td>\n",
       "      <td>40979</td>\n",
       "      <td>1026</td>\n",
       "    </tr>\n",
       "    <tr>\n",
       "      <th>9</th>\n",
       "      <td>1328</td>\n",
       "      <td>1420</td>\n",
       "      <td>406363</td>\n",
       "      <td>364807</td>\n",
       "      <td>3886</td>\n",
       "    </tr>\n",
       "    <tr>\n",
       "      <th>10</th>\n",
       "      <td>4</td>\n",
       "      <td>1</td>\n",
       "      <td>18247</td>\n",
       "      <td>13286</td>\n",
       "      <td>22</td>\n",
       "    </tr>\n",
       "    <tr>\n",
       "      <th>11</th>\n",
       "      <td>687</td>\n",
       "      <td>824</td>\n",
       "      <td>217403</td>\n",
       "      <td>178474</td>\n",
       "      <td>2352</td>\n",
       "    </tr>\n",
       "    <tr>\n",
       "      <th>12</th>\n",
       "      <td>1060</td>\n",
       "      <td>1212</td>\n",
       "      <td>321109</td>\n",
       "      <td>312170</td>\n",
       "      <td>3521</td>\n",
       "    </tr>\n",
       "    <tr>\n",
       "      <th>13</th>\n",
       "      <td>2789</td>\n",
       "      <td>3167</td>\n",
       "      <td>890464</td>\n",
       "      <td>778473</td>\n",
       "      <td>9042</td>\n",
       "    </tr>\n",
       "    <tr>\n",
       "      <th>14</th>\n",
       "      <td>1038</td>\n",
       "      <td>1187</td>\n",
       "      <td>355892</td>\n",
       "      <td>277413</td>\n",
       "      <td>3991</td>\n",
       "    </tr>\n",
       "    <tr>\n",
       "      <th>15</th>\n",
       "      <td>1775</td>\n",
       "      <td>1928</td>\n",
       "      <td>498346</td>\n",
       "      <td>449854</td>\n",
       "      <td>4929</td>\n",
       "    </tr>\n",
       "    <tr>\n",
       "      <th>16</th>\n",
       "      <td>7734</td>\n",
       "      <td>7959</td>\n",
       "      <td>2623000</td>\n",
       "      <td>2241040</td>\n",
       "      <td>26171</td>\n",
       "    </tr>\n",
       "    <tr>\n",
       "      <th>17</th>\n",
       "      <td>2231</td>\n",
       "      <td>2264</td>\n",
       "      <td>357646</td>\n",
       "      <td>291371</td>\n",
       "      <td>6531</td>\n",
       "    </tr>\n",
       "    <tr>\n",
       "      <th>18</th>\n",
       "      <td>392</td>\n",
       "      <td>286</td>\n",
       "      <td>200780</td>\n",
       "      <td>184982</td>\n",
       "      <td>1299</td>\n",
       "    </tr>\n",
       "    <tr>\n",
       "      <th>19</th>\n",
       "      <td>4158</td>\n",
       "      <td>4097</td>\n",
       "      <td>1570609</td>\n",
       "      <td>1023771</td>\n",
       "      <td>13440</td>\n",
       "    </tr>\n",
       "    <tr>\n",
       "      <th>20</th>\n",
       "      <td>1233</td>\n",
       "      <td>1450</td>\n",
       "      <td>511750</td>\n",
       "      <td>430197</td>\n",
       "      <td>4169</td>\n",
       "    </tr>\n",
       "    <tr>\n",
       "      <th>21</th>\n",
       "      <td>47</td>\n",
       "      <td>54</td>\n",
       "      <td>33335</td>\n",
       "      <td>27641</td>\n",
       "      <td>205</td>\n",
       "    </tr>\n",
       "  </tbody>\n",
       "</table>\n",
       "</div>"
      ],
      "text/plain": [
       "income_flag    high_income  high_middle_income  low_income  low_middle_income  \\\n",
       "department_id                                                                   \n",
       "1                     3172                4262     1073449             915834   \n",
       "2                       60                  97       17503              14325   \n",
       "3                     2011                2523      563040             488964   \n",
       "4                     9254               10158     4578769            3961071   \n",
       "5                     1307                1293       72140              60111   \n",
       "6                      422                 400      128793             111435   \n",
       "7                     4324                4352     1366608            1040733   \n",
       "8                      416                 314       45122              40979   \n",
       "9                     1328                1420      406363             364807   \n",
       "10                       4                   1       18247              13286   \n",
       "11                     687                 824      217403             178474   \n",
       "12                    1060                1212      321109             312170   \n",
       "13                    2789                3167      890464             778473   \n",
       "14                    1038                1187      355892             277413   \n",
       "15                    1775                1928      498346             449854   \n",
       "16                    7734                7959     2623000            2241040   \n",
       "17                    2231                2264      357646             291371   \n",
       "18                     392                 286      200780             184982   \n",
       "19                    4158                4097     1570609            1023771   \n",
       "20                    1233                1450      511750             430197   \n",
       "21                      47                  54       33335              27641   \n",
       "\n",
       "income_flag    middle_income  \n",
       "department_id                 \n",
       "1                      11265  \n",
       "2                        290  \n",
       "3                       7279  \n",
       "4                      27102  \n",
       "5                       3135  \n",
       "6                       1049  \n",
       "7                      14673  \n",
       "8                       1026  \n",
       "9                       3886  \n",
       "10                        22  \n",
       "11                      2352  \n",
       "12                      3521  \n",
       "13                      9042  \n",
       "14                      3991  \n",
       "15                      4929  \n",
       "16                     26171  \n",
       "17                      6531  \n",
       "18                      1299  \n",
       "19                     13440  \n",
       "20                      4169  \n",
       "21                       205  "
      ]
     },
     "execution_count": 71,
     "metadata": {},
     "output_type": "execute_result"
    }
   ],
   "source": [
    "department_income"
   ]
  },
  {
   "cell_type": "code",
   "execution_count": 72,
   "id": "72c7a72a",
   "metadata": {},
   "outputs": [
    {
     "data": {
      "image/png": "[encoded data removed]",
      "text/plain": [
       "<Figure size 640x480 with 1 Axes>"
      ]
     },
     "metadata": {},
     "output_type": "display_data"
    }
   ],
   "source": [
    "#Creating visualization based on results\n",
    "department_income_bar = department_income.plot(kind= 'bar', stacked = True)"
   ]
  },
  {
   "cell_type": "markdown",
   "id": "fc09eeb2",
   "metadata": {},
   "source": [
    "Dependent Profile"
   ]
  },
  {
   "cell_type": "code",
   "execution_count": 77,
   "id": "132a7b9d",
   "metadata": {},
   "outputs": [],
   "source": [
    "#Creating crosstab for dependents and region\n",
    "regional_dependents = pd.crosstab(instacart_regular_activity['Region'], instacart_regular_activity['dependent_flag'])"
   ]
  },
  {
   "cell_type": "code",
   "execution_count": 78,
   "id": "9eaa6217",
   "metadata": {},
   "outputs": [
    {
     "data": {
      "text/html": [
       "<div>\n",
       "<style scoped>\n",
       "    .dataframe tbody tr th:only-of-type {\n",
       "        vertical-align: middle;\n",
       "    }\n",
       "\n",
       "    .dataframe tbody tr th {\n",
       "        vertical-align: top;\n",
       "    }\n",
       "\n",
       "    .dataframe thead th {\n",
       "        text-align: right;\n",
       "    }\n",
       "</style>\n",
       "<table border=\"1\" class=\"dataframe\">\n",
       "  <thead>\n",
       "    <tr style=\"text-align: right;\">\n",
       "      <th>dependent_flag</th>\n",
       "      <th>large_family</th>\n",
       "      <th>middle_family</th>\n",
       "      <th>small_family</th>\n",
       "    </tr>\n",
       "    <tr>\n",
       "      <th>Region</th>\n",
       "      <th></th>\n",
       "      <th></th>\n",
       "      <th></th>\n",
       "    </tr>\n",
       "  </thead>\n",
       "  <tbody>\n",
       "    <tr>\n",
       "      <th>Midwest</th>\n",
       "      <td>151244</td>\n",
       "      <td>271775</td>\n",
       "      <td>136184</td>\n",
       "    </tr>\n",
       "    <tr>\n",
       "      <th>Northeast</th>\n",
       "      <td>139775</td>\n",
       "      <td>297799</td>\n",
       "      <td>144999</td>\n",
       "    </tr>\n",
       "    <tr>\n",
       "      <th>South</th>\n",
       "      <td>133036</td>\n",
       "      <td>284699</td>\n",
       "      <td>155169</td>\n",
       "    </tr>\n",
       "    <tr>\n",
       "      <th>West</th>\n",
       "      <td>6920567</td>\n",
       "      <td>13778989</td>\n",
       "      <td>6883130</td>\n",
       "    </tr>\n",
       "  </tbody>\n",
       "</table>\n",
       "</div>"
      ],
      "text/plain": [
       "dependent_flag  large_family  middle_family  small_family\n",
       "Region                                                   \n",
       "Midwest               151244         271775        136184\n",
       "Northeast             139775         297799        144999\n",
       "South                 133036         284699        155169\n",
       "West                 6920567       13778989       6883130"
      ]
     },
     "execution_count": 78,
     "metadata": {},
     "output_type": "execute_result"
    }
   ],
   "source": [
    "regional_dependents"
   ]
  },
  {
   "cell_type": "code",
   "execution_count": 79,
   "id": "25f87683",
   "metadata": {},
   "outputs": [
    {
     "data": {
      "image/png": "[encoded data removed]",
      "text/plain": [
       "<Figure size 640x480 with 1 Axes>"
      ]
     },
     "metadata": {},
     "output_type": "display_data"
    }
   ],
   "source": [
    "#Creating visualization based on results\n",
    "regional_dependent_bar = regional_dependents.plot(kind= 'bar', stacked = True)"
   ]
  },
  {
   "cell_type": "code",
   "execution_count": 80,
   "id": "dbabfab9",
   "metadata": {},
   "outputs": [],
   "source": [
    "#Creating crosstab for dependents and department\n",
    "department_dependents = pd.crosstab(instacart_regular_activity['department_id'], instacart_regular_activity['dependent_flag'])"
   ]
  },
  {
   "cell_type": "code",
   "execution_count": 81,
   "id": "763b2f34",
   "metadata": {},
   "outputs": [
    {
     "data": {
      "text/html": [
       "<div>\n",
       "<style scoped>\n",
       "    .dataframe tbody tr th:only-of-type {\n",
       "        vertical-align: middle;\n",
       "    }\n",
       "\n",
       "    .dataframe tbody tr th {\n",
       "        vertical-align: top;\n",
       "    }\n",
       "\n",
       "    .dataframe thead th {\n",
       "        text-align: right;\n",
       "    }\n",
       "</style>\n",
       "<table border=\"1\" class=\"dataframe\">\n",
       "  <thead>\n",
       "    <tr style=\"text-align: right;\">\n",
       "      <th>dependent_flag</th>\n",
       "      <th>large_family</th>\n",
       "      <th>middle_family</th>\n",
       "      <th>small_family</th>\n",
       "    </tr>\n",
       "    <tr>\n",
       "      <th>department_id</th>\n",
       "      <th></th>\n",
       "      <th></th>\n",
       "      <th></th>\n",
       "    </tr>\n",
       "  </thead>\n",
       "  <tbody>\n",
       "    <tr>\n",
       "      <th>1</th>\n",
       "      <td>504031</td>\n",
       "      <td>1003038</td>\n",
       "      <td>500913</td>\n",
       "    </tr>\n",
       "    <tr>\n",
       "      <th>2</th>\n",
       "      <td>7842</td>\n",
       "      <td>16358</td>\n",
       "      <td>8075</td>\n",
       "    </tr>\n",
       "    <tr>\n",
       "      <th>3</th>\n",
       "      <td>265737</td>\n",
       "      <td>530645</td>\n",
       "      <td>267435</td>\n",
       "    </tr>\n",
       "    <tr>\n",
       "      <th>4</th>\n",
       "      <td>2160500</td>\n",
       "      <td>4277574</td>\n",
       "      <td>2148280</td>\n",
       "    </tr>\n",
       "    <tr>\n",
       "      <th>5</th>\n",
       "      <td>35341</td>\n",
       "      <td>67428</td>\n",
       "      <td>35217</td>\n",
       "    </tr>\n",
       "    <tr>\n",
       "      <th>6</th>\n",
       "      <td>60124</td>\n",
       "      <td>121032</td>\n",
       "      <td>60943</td>\n",
       "    </tr>\n",
       "    <tr>\n",
       "      <th>7</th>\n",
       "      <td>604683</td>\n",
       "      <td>1215655</td>\n",
       "      <td>610352</td>\n",
       "    </tr>\n",
       "    <tr>\n",
       "      <th>8</th>\n",
       "      <td>22049</td>\n",
       "      <td>43730</td>\n",
       "      <td>22078</td>\n",
       "    </tr>\n",
       "    <tr>\n",
       "      <th>9</th>\n",
       "      <td>196925</td>\n",
       "      <td>387742</td>\n",
       "      <td>193137</td>\n",
       "    </tr>\n",
       "    <tr>\n",
       "      <th>10</th>\n",
       "      <td>8031</td>\n",
       "      <td>15979</td>\n",
       "      <td>7550</td>\n",
       "    </tr>\n",
       "    <tr>\n",
       "      <th>11</th>\n",
       "      <td>100422</td>\n",
       "      <td>199499</td>\n",
       "      <td>99819</td>\n",
       "    </tr>\n",
       "    <tr>\n",
       "      <th>12</th>\n",
       "      <td>162184</td>\n",
       "      <td>319901</td>\n",
       "      <td>156987</td>\n",
       "    </tr>\n",
       "    <tr>\n",
       "      <th>13</th>\n",
       "      <td>420902</td>\n",
       "      <td>844163</td>\n",
       "      <td>418870</td>\n",
       "    </tr>\n",
       "    <tr>\n",
       "      <th>14</th>\n",
       "      <td>158489</td>\n",
       "      <td>321768</td>\n",
       "      <td>159264</td>\n",
       "    </tr>\n",
       "    <tr>\n",
       "      <th>15</th>\n",
       "      <td>240841</td>\n",
       "      <td>478610</td>\n",
       "      <td>237381</td>\n",
       "    </tr>\n",
       "    <tr>\n",
       "      <th>16</th>\n",
       "      <td>1225894</td>\n",
       "      <td>2454923</td>\n",
       "      <td>1225087</td>\n",
       "    </tr>\n",
       "    <tr>\n",
       "      <th>17</th>\n",
       "      <td>166371</td>\n",
       "      <td>332720</td>\n",
       "      <td>160952</td>\n",
       "    </tr>\n",
       "    <tr>\n",
       "      <th>18</th>\n",
       "      <td>96776</td>\n",
       "      <td>193260</td>\n",
       "      <td>97703</td>\n",
       "    </tr>\n",
       "    <tr>\n",
       "      <th>19</th>\n",
       "      <td>653235</td>\n",
       "      <td>1307518</td>\n",
       "      <td>655322</td>\n",
       "    </tr>\n",
       "    <tr>\n",
       "      <th>20</th>\n",
       "      <td>238728</td>\n",
       "      <td>471023</td>\n",
       "      <td>239048</td>\n",
       "    </tr>\n",
       "    <tr>\n",
       "      <th>21</th>\n",
       "      <td>15517</td>\n",
       "      <td>30696</td>\n",
       "      <td>15069</td>\n",
       "    </tr>\n",
       "  </tbody>\n",
       "</table>\n",
       "</div>"
      ],
      "text/plain": [
       "dependent_flag  large_family  middle_family  small_family\n",
       "department_id                                            \n",
       "1                     504031        1003038        500913\n",
       "2                       7842          16358          8075\n",
       "3                     265737         530645        267435\n",
       "4                    2160500        4277574       2148280\n",
       "5                      35341          67428         35217\n",
       "6                      60124         121032         60943\n",
       "7                     604683        1215655        610352\n",
       "8                      22049          43730         22078\n",
       "9                     196925         387742        193137\n",
       "10                      8031          15979          7550\n",
       "11                    100422         199499         99819\n",
       "12                    162184         319901        156987\n",
       "13                    420902         844163        418870\n",
       "14                    158489         321768        159264\n",
       "15                    240841         478610        237381\n",
       "16                   1225894        2454923       1225087\n",
       "17                    166371         332720        160952\n",
       "18                     96776         193260         97703\n",
       "19                    653235        1307518        655322\n",
       "20                    238728         471023        239048\n",
       "21                     15517          30696         15069"
      ]
     },
     "execution_count": 81,
     "metadata": {},
     "output_type": "execute_result"
    }
   ],
   "source": [
    "department_dependents"
   ]
  },
  {
   "cell_type": "code",
   "execution_count": 82,
   "id": "a5f1f07b",
   "metadata": {},
   "outputs": [
    {
     "data": {
      "image/png": "[encoded data removed]",
      "text/plain": [
       "<Figure size 640x480 with 1 Axes>"
      ]
     },
     "metadata": {},
     "output_type": "display_data"
    }
   ],
   "source": [
    "#Creating visualization based on results\n",
    "department_dependent_bar = department_dependents.plot(kind= 'bar', stacked = True)"
   ]
  },
  {
   "cell_type": "markdown",
   "id": "9e7b9b67",
   "metadata": {},
   "source": [
    "Department_id Profile"
   ]
  },
  {
   "cell_type": "code",
   "execution_count": 87,
   "id": "772bfb52",
   "metadata": {},
   "outputs": [],
   "source": [
    "#Creating crosstab for pets and region\n",
    "regional_pet_department = pd.crosstab(instacart_regular_activity['pet_flag'], instacart_regular_activity['Region'])"
   ]
  },
  {
   "cell_type": "code",
   "execution_count": 88,
   "id": "b67b0545",
   "metadata": {},
   "outputs": [
    {
     "data": {
      "text/html": [
       "<div>\n",
       "<style scoped>\n",
       "    .dataframe tbody tr th:only-of-type {\n",
       "        vertical-align: middle;\n",
       "    }\n",
       "\n",
       "    .dataframe tbody tr th {\n",
       "        vertical-align: top;\n",
       "    }\n",
       "\n",
       "    .dataframe thead th {\n",
       "        text-align: right;\n",
       "    }\n",
       "</style>\n",
       "<table border=\"1\" class=\"dataframe\">\n",
       "  <thead>\n",
       "    <tr style=\"text-align: right;\">\n",
       "      <th>Region</th>\n",
       "      <th>Midwest</th>\n",
       "      <th>Northeast</th>\n",
       "      <th>South</th>\n",
       "      <th>West</th>\n",
       "    </tr>\n",
       "    <tr>\n",
       "      <th>pet_flag</th>\n",
       "      <th></th>\n",
       "      <th></th>\n",
       "      <th></th>\n",
       "      <th></th>\n",
       "    </tr>\n",
       "  </thead>\n",
       "  <tbody>\n",
       "    <tr>\n",
       "      <th>anti_pet</th>\n",
       "      <td>557677</td>\n",
       "      <td>580861</td>\n",
       "      <td>571018</td>\n",
       "      <td>27499953</td>\n",
       "    </tr>\n",
       "    <tr>\n",
       "      <th>pet_friendly</th>\n",
       "      <td>1526</td>\n",
       "      <td>1712</td>\n",
       "      <td>1886</td>\n",
       "      <td>82733</td>\n",
       "    </tr>\n",
       "  </tbody>\n",
       "</table>\n",
       "</div>"
      ],
      "text/plain": [
       "Region        Midwest  Northeast   South      West\n",
       "pet_flag                                          \n",
       "anti_pet       557677     580861  571018  27499953\n",
       "pet_friendly     1526       1712    1886     82733"
      ]
     },
     "execution_count": 88,
     "metadata": {},
     "output_type": "execute_result"
    }
   ],
   "source": [
    "regional_pet_department"
   ]
  },
  {
   "cell_type": "code",
   "execution_count": 89,
   "id": "595df3c1",
   "metadata": {},
   "outputs": [
    {
     "data": {
      "image/png": "[encoded data removed]",
      "text/plain": [
       "<Figure size 640x480 with 1 Axes>"
      ]
     },
     "metadata": {},
     "output_type": "display_data"
    }
   ],
   "source": [
    "#Creating visualization based on results\n",
    "regional_pet_department_bar = regional_pet_department.plot(kind= 'bar', stacked = True)"
   ]
  },
  {
   "cell_type": "markdown",
   "id": "0f5290a4",
   "metadata": {},
   "source": [
    "# Exporting visualizations"
   ]
  },
  {
   "cell_type": "code",
   "execution_count": 90,
   "id": "604e5354",
   "metadata": {},
   "outputs": [],
   "source": [
    "# Exporting regional_age_bar\n",
    "regional_age_bar.figure.savefig(r'C:\\Users\\makay\\Documents\\Pythons files\\Master folder\\04 Analysis\\visualizations\\regional_age_bar.png')"
   ]
  },
  {
   "cell_type": "code",
   "execution_count": 91,
   "id": "aa1a2512",
   "metadata": {},
   "outputs": [],
   "source": [
    "# Exporting department_age_bar\n",
    "department_age_bar.figure.savefig(r'C:\\Users\\makay\\Documents\\Pythons files\\Master folder\\04 Analysis\\visualizations\\department_age_bar.png')"
   ]
  },
  {
   "cell_type": "code",
   "execution_count": 92,
   "id": "3e9111e0",
   "metadata": {},
   "outputs": [],
   "source": [
    "# Exporting regional_income_bar\n",
    "regional_income_bar.figure.savefig(r'C:\\Users\\makay\\Documents\\Pythons files\\Master folder\\04 Analysis\\visualizations\\regional_income_bar.png')"
   ]
  },
  {
   "cell_type": "code",
   "execution_count": 93,
   "id": "b1f99ad9",
   "metadata": {},
   "outputs": [],
   "source": [
    "# Exporting department_income_bar\n",
    "department_income_bar.figure.savefig(r'C:\\Users\\makay\\Documents\\Pythons files\\Master folder\\04 Analysis\\visualizations\\department_income_bar.png')"
   ]
  },
  {
   "cell_type": "code",
   "execution_count": 94,
   "id": "c1d14abb",
   "metadata": {},
   "outputs": [],
   "source": [
    "# Exporting regional_dependent_bar\n",
    "regional_dependent_bar.figure.savefig(r'C:\\Users\\makay\\Documents\\Pythons files\\Master folder\\04 Analysis\\visualizations\\regional_dependent_bar.png')"
   ]
  },
  {
   "cell_type": "code",
   "execution_count": 95,
   "id": "821a144f",
   "metadata": {},
   "outputs": [],
   "source": [
    "# Exporting department_dependent_bar\n",
    "department_dependent_bar.figure.savefig(r'C:\\Users\\makay\\Documents\\Pythons files\\Master folder\\04 Analysis\\visualizations\\department_dependent_bar.png')"
   ]
  },
  {
   "cell_type": "code",
   "execution_count": 96,
   "id": "c6bf563e",
   "metadata": {},
   "outputs": [],
   "source": [
    "# Exporting regional_pet_department_bar\n",
    "regional_pet_department_bar.figure.savefig(r'C:\\Users\\makay\\Documents\\Pythons files\\Master folder\\04 Analysis\\visualizations\\regional_pet_department_bar.png')"
   ]
  },
  {
   "cell_type": "markdown",
   "id": "54ed0c1b",
   "metadata": {},
   "source": [
    "# Exporting final data set"
   ]
  },
  {
   "cell_type": "code",
   "execution_count": 97,
   "id": "7d8d21ea",
   "metadata": {},
   "outputs": [],
   "source": [
    "instacart_regular_activity.to_pickle(r'C:\\Users\\makay\\Documents\\Pythons files\\Master folder\\02 Data\\Prepared Data\\instacart_regular_activity')"
   ]
  },
  {
   "cell_type": "code",
   "execution_count": null,
   "id": "c57e59ec",
   "metadata": {},
   "outputs": [],
   "source": []
  }
 ],
 "metadata": {
  "kernelspec": {
   "display_name": "Python 3 (ipykernel)",
   "language": "python",
   "name": "python3"
  },
  "language_info": {
   "codemirror_mode": {
    "name": "ipython",
    "version": 3
   },
   "file_extension": ".py",
   "mimetype": "text/x-python",
   "name": "python",
   "nbconvert_exporter": "python",
   "pygments_lexer": "ipython3",
   "version": "3.9.13"
  }
 },
 "nbformat": 4,
 "nbformat_minor": 5
}
