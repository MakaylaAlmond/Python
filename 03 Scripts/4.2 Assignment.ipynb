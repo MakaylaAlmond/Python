{
 "cells": [
  {
   "cell_type": "markdown",
   "id": "69e97873",
   "metadata": {},
   "source": [
    "# Importing Libraries"
   ]
  },
  {
   "cell_type": "code",
   "execution_count": 3,
   "id": "91fd0f48",
   "metadata": {},
   "outputs": [],
   "source": [
    "# importing libraries\n",
    "import pandas as pd\n",
    "import numpy as np\n",
    "import os"
   ]
  },
  {
   "cell_type": "markdown",
   "id": "b3ff43c9",
   "metadata": {},
   "source": [
    "# Python Data Types"
   ]
  },
  {
   "cell_type": "code",
   "execution_count": 4,
   "id": "5cf45a9d",
   "metadata": {},
   "outputs": [],
   "source": [
    "a = 25"
   ]
  },
  {
   "cell_type": "code",
   "execution_count": 5,
   "id": "23c2d763",
   "metadata": {},
   "outputs": [],
   "source": [
    "b = 75"
   ]
  },
  {
   "cell_type": "code",
   "execution_count": 6,
   "id": "a60fc257",
   "metadata": {},
   "outputs": [
    {
     "data": {
      "text/plain": [
       "100"
      ]
     },
     "execution_count": 6,
     "metadata": {},
     "output_type": "execute_result"
    }
   ],
   "source": [
    "a + b"
   ]
  },
  {
   "cell_type": "code",
   "execution_count": 7,
   "id": "59e21756",
   "metadata": {},
   "outputs": [
    {
     "data": {
      "text/plain": [
       "100"
      ]
     },
     "execution_count": 7,
     "metadata": {},
     "output_type": "execute_result"
    }
   ],
   "source": [
    "b + 25"
   ]
  },
  {
   "cell_type": "code",
   "execution_count": 8,
   "id": "e148e62a",
   "metadata": {},
   "outputs": [],
   "source": [
    "c = 125"
   ]
  },
  {
   "cell_type": "code",
   "execution_count": 9,
   "id": "8d56eecd",
   "metadata": {},
   "outputs": [
    {
     "data": {
      "text/plain": [
       "100"
      ]
     },
     "execution_count": 9,
     "metadata": {},
     "output_type": "execute_result"
    }
   ],
   "source": [
    "c - a"
   ]
  },
  {
   "cell_type": "code",
   "execution_count": 10,
   "id": "980ba82e",
   "metadata": {},
   "outputs": [],
   "source": [
    "d = 59.6"
   ]
  },
  {
   "cell_type": "code",
   "execution_count": 11,
   "id": "64efbb23",
   "metadata": {},
   "outputs": [],
   "source": [
    "e = 15.7"
   ]
  },
  {
   "cell_type": "code",
   "execution_count": 12,
   "id": "a25656eb",
   "metadata": {},
   "outputs": [
    {
     "data": {
      "text/plain": [
       "3.7961783439490446"
      ]
     },
     "execution_count": 12,
     "metadata": {},
     "output_type": "execute_result"
    }
   ],
   "source": [
    "d / e"
   ]
  },
  {
   "cell_type": "code",
   "execution_count": 13,
   "id": "4ddf5d09",
   "metadata": {},
   "outputs": [],
   "source": [
    "f = 'hand'"
   ]
  },
  {
   "cell_type": "code",
   "execution_count": 14,
   "id": "4a502de0",
   "metadata": {},
   "outputs": [],
   "source": [
    "g = 'made'"
   ]
  },
  {
   "cell_type": "code",
   "execution_count": 15,
   "id": "e5ae1bca",
   "metadata": {},
   "outputs": [
    {
     "data": {
      "text/plain": [
       "'handmade'"
      ]
     },
     "execution_count": 15,
     "metadata": {},
     "output_type": "execute_result"
    }
   ],
   "source": [
    "f + g"
   ]
  },
  {
   "cell_type": "code",
   "execution_count": 16,
   "id": "afef80cf",
   "metadata": {},
   "outputs": [],
   "source": [
    "h = 'Hello,'"
   ]
  },
  {
   "cell_type": "code",
   "execution_count": 17,
   "id": "350df7e9",
   "metadata": {},
   "outputs": [],
   "source": [
    "i = 'my name is makayla'"
   ]
  },
  {
   "cell_type": "code",
   "execution_count": 18,
   "id": "979dc2cc",
   "metadata": {},
   "outputs": [
    {
     "data": {
      "text/plain": [
       "'Hello,my name is makayla'"
      ]
     },
     "execution_count": 18,
     "metadata": {},
     "output_type": "execute_result"
    }
   ],
   "source": [
    "h + i"
   ]
  }
 ],
 "metadata": {
  "kernelspec": {
   "display_name": "Python 3 (ipykernel)",
   "language": "python",
   "name": "python3"
  },
  "language_info": {
   "codemirror_mode": {
    "name": "ipython",
    "version": 3
   },
   "file_extension": ".py",
   "mimetype": "text/x-python",
   "name": "python",
   "nbconvert_exporter": "python",
   "pygments_lexer": "ipython3",
   "version": "3.9.13"
  }
 },
 "nbformat": 4,
 "nbformat_minor": 5
}
